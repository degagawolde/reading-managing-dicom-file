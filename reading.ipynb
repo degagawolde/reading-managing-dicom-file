{
 "cells": [
  {
   "cell_type": "code",
   "execution_count": 35,
   "metadata": {},
   "outputs": [
    {
     "name": "stdout",
     "output_type": "stream",
     "text": [
      "Unique patient Id 3\n"
     ]
    }
   ],
   "source": [
    "import glob\n",
    "from pydicom import dcmread\n",
    "filenames = glob.glob('data/*.dcm')\n",
    "p_id = []\n",
    "for file in filenames:\n",
    "    ds = dcmread(file)\n",
    "    p_id.append(ds[0x0010, 0x0020].value)\n",
    "\n",
    "print(\"Unique patient Id {}\".format(len(set(p_id))))"
   ]
  }
 ],
 "metadata": {
  "kernelspec": {
   "display_name": "torch-gpu",
   "language": "python",
   "name": "python3"
  },
  "language_info": {
   "codemirror_mode": {
    "name": "ipython",
    "version": 3
   },
   "file_extension": ".py",
   "mimetype": "text/x-python",
   "name": "python",
   "nbconvert_exporter": "python",
   "pygments_lexer": "ipython3",
   "version": "3.8.15"
  },
  "orig_nbformat": 4,
  "vscode": {
   "interpreter": {
    "hash": "e126ebe8415dd96b7b80e54b5fa5c5c9631671627a3d4aef38baefa7b467a158"
   }
  }
 },
 "nbformat": 4,
 "nbformat_minor": 2
}
